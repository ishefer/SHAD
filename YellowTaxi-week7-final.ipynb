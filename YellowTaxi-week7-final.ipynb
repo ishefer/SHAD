{
 "cells": [
  {
   "cell_type": "markdown",
   "id": "cfe461a0",
   "metadata": {},
   "source": [
    "# Yellow Taxi - Создание интерактивного демо"
   ]
  },
  {
   "cell_type": "code",
   "execution_count": 1,
   "id": "444ce2b0",
   "metadata": {},
   "outputs": [
    {
     "ename": "ModuleNotFoundError",
     "evalue": "No module named 'holoviews'",
     "output_type": "error",
     "traceback": [
      "\u001b[1;31m---------------------------------------------------------------------------\u001b[0m",
      "\u001b[1;31mModuleNotFoundError\u001b[0m                       Traceback (most recent call last)",
      "\u001b[1;32m<ipython-input-1-79738f76bb18>\u001b[0m in \u001b[0;36m<module>\u001b[1;34m\u001b[0m\n\u001b[0;32m      1\u001b[0m \u001b[1;32mimport\u001b[0m \u001b[0mnumpy\u001b[0m \u001b[1;32mas\u001b[0m \u001b[0mnp\u001b[0m\u001b[1;33m\u001b[0m\u001b[1;33m\u001b[0m\u001b[0m\n\u001b[0;32m      2\u001b[0m \u001b[1;32mimport\u001b[0m \u001b[0mpandas\u001b[0m \u001b[1;32mas\u001b[0m \u001b[0mpd\u001b[0m\u001b[1;33m\u001b[0m\u001b[1;33m\u001b[0m\u001b[0m\n\u001b[1;32m----> 3\u001b[1;33m \u001b[1;32mimport\u001b[0m \u001b[0mholoviews\u001b[0m \u001b[1;32mas\u001b[0m \u001b[0mhv\u001b[0m\u001b[1;33m\u001b[0m\u001b[1;33m\u001b[0m\u001b[0m\n\u001b[0m\u001b[0;32m      4\u001b[0m \u001b[1;32mimport\u001b[0m \u001b[0mhvplot\u001b[0m\u001b[1;33m.\u001b[0m\u001b[0mpandas\u001b[0m  \u001b[1;31m# noqa\u001b[0m\u001b[1;33m\u001b[0m\u001b[1;33m\u001b[0m\u001b[0m\n\u001b[0;32m      5\u001b[0m \u001b[1;32mfrom\u001b[0m \u001b[0mbokeh\u001b[0m\u001b[1;33m.\u001b[0m\u001b[0mmodels\u001b[0m \u001b[1;32mimport\u001b[0m \u001b[0mHoverTool\u001b[0m\u001b[1;33m,\u001b[0m \u001b[0mCrosshairTool\u001b[0m\u001b[1;33m\u001b[0m\u001b[1;33m\u001b[0m\u001b[0m\n",
      "\u001b[1;31mModuleNotFoundError\u001b[0m: No module named 'holoviews'"
     ]
    }
   ],
   "source": [
    "import numpy as np\n",
    "import pandas as pd\n",
    "import holoviews as hv\n",
    "import hvplot.pandas  # noqa\n",
    "from bokeh.models import HoverTool, CrosshairTool\n",
    "hv.extension('bokeh')\n",
    "\n",
    "import folium\n",
    "from folium.features import GeoJsonTooltip\n",
    "\n",
    "# from geojson import Feature, Polygon, FeatureCollection\n",
    "\n",
    "import geopandas as gpd\n",
    "import datetime as dt\n"
   ]
  },
  {
   "cell_type": "code",
   "execution_count": null,
   "id": "b30166dd",
   "metadata": {},
   "outputs": [],
   "source": [
    "import datetime as dt\n",
    "import panel as pn\n",
    "from panel.interact import interact, interactive, fixed, interact_manual\n",
    "pn.extension()"
   ]
  },
  {
   "cell_type": "markdown",
   "id": "16a02bc4",
   "metadata": {},
   "source": [
    "Загрузим данные с точными и спрогнозированными значениями на июнь"
   ]
  },
  {
   "cell_type": "code",
   "execution_count": null,
   "id": "31299302",
   "metadata": {},
   "outputs": [],
   "source": [
    "june_forecast =pd.read_csv('june_forecast.csv', index_col=0)\n",
    "june_forecast['datetime'] = pd.to_datetime(june_forecast['datetime'])\n",
    "june_forecast"
   ]
  },
  {
   "cell_type": "markdown",
   "id": "50736d67",
   "metadata": {},
   "source": [
    "Интерактив добавим с помощью пакета panel."
   ]
  },
  {
   "cell_type": "code",
   "execution_count": null,
   "id": "56b85fa9",
   "metadata": {},
   "outputs": [],
   "source": [
    "regions_geometry = gpd.read_file('regions_geometry.geojson')\n",
    "regions_geometry"
   ]
  },
  {
   "cell_type": "code",
   "execution_count": null,
   "id": "bcf47cc3",
   "metadata": {},
   "outputs": [],
   "source": [
    "regions = np.unique(june_forecast['region'])\n",
    "regions"
   ]
  },
  {
   "cell_type": "code",
   "execution_count": null,
   "id": "0895cd22",
   "metadata": {},
   "outputs": [],
   "source": [
    "def get_data(date = dt.datetime(2016,6,15,13), pred_hour = 1, df_data = june_forecast, df_geometry = regions_geometry):\n",
    "    tmp = df_data[df_data['datetime'] == date]\n",
    "    \n",
    "    if pred_hour == 0:\n",
    "        col = 'y_T'\n",
    "    else:\n",
    "        col = f'y_P{pred_hour}'\n",
    "        \n",
    "    tmp = tmp[['region', col] ]\n",
    "    res = df_geometry.merge(tmp, right_on='region', left_on='region')    \n",
    "    res = res.rename(columns={col: 'count'})\n",
    "    \n",
    "    res['count'] = np.floor(res['count']).astype(int)\n",
    "    res['count_m'] = np.cbrt(res['count'] )\n",
    "    \n",
    "    return res\n",
    "\n",
    "# get_data()\n",
    "res = get_data(pred_hour=1)\n",
    "res"
   ]
  },
  {
   "cell_type": "code",
   "execution_count": null,
   "id": "a9024249",
   "metadata": {},
   "outputs": [],
   "source": [
    "def plot_map(date, curr_hour, pred_hour):\n",
    "    \n",
    "    c_lat, c_long = -73.89446, 40.74357\n",
    "    \n",
    "    curr_datetime = dt.datetime.combine( date, dt.time(curr_hour) )\n",
    "\n",
    "    geo_data = get_data(curr_datetime, pred_hour)\n",
    "\n",
    "    m = folium.Map(location=[c_long, c_lat], zoom_start=11, tiles='OpenStreetMap', \n",
    "                    max_start=12)  \n",
    "\n",
    "\n",
    "    cm = folium.Choropleth(\n",
    "        geo_data=geo_data,\n",
    "        data=geo_data,\n",
    "        columns=['region', 'count_m'],\n",
    "        key_on='feature.properties.region',\n",
    "        fill_color='YlGnBu', \n",
    "        fill_opacity=0.5, \n",
    "        line_opacity=1,\n",
    "        legend_name='Total amount of trips per region',\n",
    "        smooth_factor=0).add_to(m)\n",
    "    \n",
    "    for key in cm._children:\n",
    "        if key.startswith('color_map'):\n",
    "            del(cm._children[key])\n",
    "\n",
    "            \n",
    "    tooltip = GeoJsonTooltip(\n",
    "    fields=['region', 'count'],\n",
    "    aliases=['Регион', 'Поездки'],\n",
    "    ).add_to(cm.geojson)\n",
    "            \n",
    "    folium_pane = pn.pane.plot.Folium(m, height=450)\n",
    "    \n",
    "    return folium_pane\n",
    "    "
   ]
  },
  {
   "cell_type": "code",
   "execution_count": null,
   "id": "bfccfb5d",
   "metadata": {},
   "outputs": [],
   "source": [
    "date_picker = pn.widgets.DatePicker(name='Укажите день', \n",
    "                                            start = dt.date(2016, 6, 1),\n",
    "                                            end = dt.date(2016, 6, 30),\n",
    "                                            value=dt.date(2016, 6, 15))\n",
    "\n",
    "curr_hour_select = pn.widgets.Select(value=20, options=list(range(24)), name='Укажите текущий час')\n",
    "pred_hour_select = pn.widgets.Select(value=1, options=list(range(1,7)), name='Укажите шаг прогноза')\n",
    "\n",
    "row1 = pn.Row(date_picker, curr_hour_select, pred_hour_select)\n",
    "row2 = pn.Row(plot_map(date_picker.value, curr_hour_select.value, 0),\n",
    "                 plot_map(date_picker.value,curr_hour_select.value, pred_hour_select.value))\n",
    "\n",
    "def update_day(event):    \n",
    "    if date_picker.value.day == 30:        \n",
    "        tmp = row1[1].value\n",
    "        row1[1].options = list(range(18))\n",
    "        row1[1].value = min(tmp, 17)\n",
    "    else:\n",
    "        row1[1].options = list(range(24))\n",
    "        row2[0] = plot_map(date_picker.value, curr_hour_select.value,0)\n",
    " \n",
    "def update_curr_hour(event):\n",
    "    row2[0] = plot_map(date_picker.value, curr_hour_select.value, 0)\n",
    "    \n",
    "def update_pred_hour(event):\n",
    "    row2[1] = plot_map(date_picker.value, curr_hour_select.value, pred_hour_select.value)\n",
    "\n",
    "\n",
    "layout =pn.Column(row1, row2)\n",
    "\n",
    "\n",
    "\n",
    "date_picker.param.watch(update_day, 'value')\n",
    "curr_hour_select.param.watch(update_curr_hour, 'value')\n",
    "pred_hour_select.param.watch(update_pred_hour, 'value')\n",
    "\n",
    "layout\n"
   ]
  },
  {
   "cell_type": "code",
   "execution_count": null,
   "id": "5b006726",
   "metadata": {},
   "outputs": [],
   "source": []
  },
  {
   "cell_type": "code",
   "execution_count": null,
   "id": "2e492891",
   "metadata": {},
   "outputs": [],
   "source": []
  },
  {
   "cell_type": "code",
   "execution_count": null,
   "id": "7d1ef6c8",
   "metadata": {},
   "outputs": [],
   "source": []
  },
  {
   "cell_type": "code",
   "execution_count": null,
   "id": "3da97c09",
   "metadata": {},
   "outputs": [],
   "source": [
    "def xtick_formatter(value):\n",
    "    return str(value) + ':00'\n",
    "\n",
    "def plot_ts4(region, day,  hour ,  data = june_forecast):    \n",
    "    tmp = data[(data['region'] == region) & (data['datetime'].dt.day == day) & (data['datetime'].dt.hour == hour)]\n",
    "    \n",
    "    df_true = pd.DataFrame()\n",
    "    df_predict = pd.DataFrame()\n",
    "    \n",
    "    df_true['hour'] = np.linspace(1,6,6) + hour\n",
    "    df_true['true'] = tmp[['y_T1','y_T2','y_T3','y_T4','y_T5','y_T6']].values[0]\n",
    "    df_predict['hour'] = np.linspace(1,6,6) + hour\n",
    "    df_predict['predict'] = np.floor(tmp[['y_P1','y_P2','y_P3','y_P4','y_P5','y_P6']].values[0])\n",
    "    \n",
    "    \n",
    "    tooltips_true = [(\"Поездки\", \"@true\")]    \n",
    "    hover_true = HoverTool(tooltips=tooltips_true, mode='mouse')\n",
    "    \n",
    "    tooltips_predict = [(\"Поездки\", \"@predict\")]    \n",
    "    hover_predict = HoverTool(tooltips=tooltips_predict, mode='mouse')\n",
    "    \n",
    "    curve1 = hv.Curve((df_true['hour'], df_true['true']), label='Истинные значения').opts()\n",
    "    dots1 = hv.Points(df_true).opts(color='blue', size=9, marker='o', tools=[hover_true])\n",
    "    \n",
    "    \n",
    "    curve2 = hv.Curve((df_predict['hour'], df_predict['predict']), label='Предсказанные занчения')#.opts(color='green')\n",
    "    dots2 = hv.Scatter( df_predict).opts(color='red', size=9, marker='o', tools=[hover_predict])\n",
    "    \n",
    "    ov = hv.Overlay([curve1,dots1, curve2,dots2]).opts(height=400,  width=600,\n",
    "    xlabel='Время', ylabel='Количество поездкок',  title= f'Прогноз числа поездок из региона {region}',\n",
    "    legend_position='top',\n",
    "    xlim = (hour, hour +7), xticks = df_predict['hour'], xformatter=xtick_formatter  )\n",
    "    \n",
    "    fig = pn.panel(ov)\n",
    "    \n",
    "    return fig"
   ]
  },
  {
   "cell_type": "code",
   "execution_count": null,
   "id": "545805a9",
   "metadata": {},
   "outputs": [],
   "source": [
    "region_select = pn.widgets.Select(name='Выберите регион', options=list(regions), size=1 )\n",
    "\n",
    "date_picker2 = pn.widgets.DatePicker(name='Укажите день', \n",
    "                                            start = dt.date(2016, 6, 1),\n",
    "                                            end = dt.date(2016, 6, 30),\n",
    "                                            value=dt.date(2016, 6, 15))\n",
    "\n",
    "hour_select = pn.widgets.Select(value=10, options=list(range(24)), name='Укажите час')\n",
    "\n",
    "col1 = pn.Column( region_select, date_picker2, hour_select)\n",
    "col2 = plot_ts4(region_select.value, date_picker2.value.day, hour_select.value)\n",
    "\n",
    "layout2 =pn.Row(col1, col2)\n",
    "\n",
    "\n",
    "\n",
    "def update(event):       \n",
    "    if date_picker2.value.day == 30:\n",
    "        tmp = hour_select.value\n",
    "        hour_select.options = list(range(18))\n",
    "        hour_select.value = min(tmp, 17)\n",
    "    else:\n",
    "        hour_select.options = list(range(24))\n",
    "        \n",
    "    layout2[1] = plot_ts4(region_select.value, date_picker2.value.day, hour_select.value)\n",
    " \n",
    "    \n",
    "    \n",
    "\n",
    "region_select.param.watch(update, 'value')\n",
    "date_picker2.param.watch(update, 'value')\n",
    "hour_select.param.watch(update, 'value')\n",
    "\n",
    "layout2"
   ]
  },
  {
   "cell_type": "code",
   "execution_count": null,
   "id": "2a590f02",
   "metadata": {},
   "outputs": [],
   "source": []
  },
  {
   "cell_type": "code",
   "execution_count": null,
   "id": "de97ddc7",
   "metadata": {},
   "outputs": [],
   "source": []
  },
  {
   "cell_type": "code",
   "execution_count": null,
   "id": "0441457c",
   "metadata": {},
   "outputs": [],
   "source": []
  },
  {
   "cell_type": "code",
   "execution_count": null,
   "id": "78e63506",
   "metadata": {},
   "outputs": [],
   "source": []
  },
  {
   "cell_type": "code",
   "execution_count": null,
   "id": "7b0e29c6",
   "metadata": {},
   "outputs": [],
   "source": []
  },
  {
   "cell_type": "code",
   "execution_count": null,
   "id": "ae1aeae8",
   "metadata": {},
   "outputs": [],
   "source": []
  },
  {
   "cell_type": "code",
   "execution_count": null,
   "id": "88b31d93",
   "metadata": {},
   "outputs": [],
   "source": []
  },
  {
   "cell_type": "code",
   "execution_count": null,
   "id": "a77dc941",
   "metadata": {},
   "outputs": [],
   "source": []
  },
  {
   "cell_type": "code",
   "execution_count": null,
   "id": "36417215",
   "metadata": {},
   "outputs": [],
   "source": []
  },
  {
   "cell_type": "code",
   "execution_count": null,
   "id": "6236f19c",
   "metadata": {},
   "outputs": [],
   "source": []
  },
  {
   "cell_type": "code",
   "execution_count": null,
   "id": "50008724",
   "metadata": {},
   "outputs": [],
   "source": []
  },
  {
   "cell_type": "code",
   "execution_count": null,
   "id": "f5785eda",
   "metadata": {},
   "outputs": [],
   "source": []
  },
  {
   "cell_type": "code",
   "execution_count": null,
   "id": "ee1aeefa",
   "metadata": {},
   "outputs": [],
   "source": [
    "layout3 = pn.Tabs(('Map', layout), ('Time Series', layout2))\n",
    "\n",
    "layout3"
   ]
  },
  {
   "cell_type": "markdown",
   "id": "3eb5222c",
   "metadata": {},
   "source": [
    "Вкладка Maps: \n",
    "\n",
    "    Слева отображается карта, на которой регионы окрашены в цвета согласно числу поездок на \"текущий час\".\n",
    "    \n",
    "    Справа отображается карта, на которой регионы окрашены в цвета согласно числу поездок на \"шаг прогноза\"."
   ]
  },
  {
   "cell_type": "markdown",
   "id": "b750a488",
   "metadata": {},
   "source": [
    "Вкладка Time Series: \n",
    "\n",
    "    Слева указываются регион, дата и час.\n",
    "    \n",
    "    Справа выводится график истинных и прогнозных значений на 6 часов вперед\n"
   ]
  }
 ],
 "metadata": {
  "kernelspec": {
   "display_name": "Python 3",
   "language": "python",
   "name": "python3"
  },
  "language_info": {
   "codemirror_mode": {
    "name": "ipython",
    "version": 3
   },
   "file_extension": ".py",
   "mimetype": "text/x-python",
   "name": "python",
   "nbconvert_exporter": "python",
   "pygments_lexer": "ipython3",
   "version": "3.9.6"
  }
 },
 "nbformat": 4,
 "nbformat_minor": 5
}
